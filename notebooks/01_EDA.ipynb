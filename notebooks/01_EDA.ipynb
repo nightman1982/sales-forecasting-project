{
 "cells": [
  {
   "cell_type": "code",
   "execution_count": null,
   "id": "827d1a56",
   "metadata": {},
   "outputs": [],
   "source": []
  }
 ],
 "metadata": {
  "language_info": {
   "name": "python"
  }
 },
 "nbformat": 4,
 "nbformat_minor": 5
}
